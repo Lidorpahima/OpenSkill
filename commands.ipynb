{
 "cells": [
  {
   "cell_type": "markdown",
   "id": "bb140803",
   "metadata": {},
   "source": [
    "# Git, Docker, Uvicorn - פקודות לשימוש\n",
    "\n",
    "## **GitHub**\n",
    "1. **להוסיף לפני GitHub**:\n",
    "```bash\n",
    "git add .\n",
    "```\n",
    "1. **משוך שינויים מ-GitHub**:\n",
    "```bash\n",
    "git pull origin main\n",
    "```\n",
    "2. **בצע commit**:\n",
    "```bash\n",
    "git commit -am \"Integrate learning_service with auth_service\"\n",
    "```\n",
    "3. **דחוף שינויים ל-GitHub**:\n",
    "```bash\n",
    "git push -u origin main\n",
    "```\n",
    "\n",
    "## **Docker**\n",
    "1. **הפעל את Docker Compose (עם Build)**:\n",
    "```bash\n",
    "docker-compose up --build\n",
    "```\n",
    "2. **הרץ את Uvicorn**:\n",
    "```bash\n",
    "uvicorn app.main:app --reload\n",
    "```\n",
    "3. **צפייה ב-Docker Containers**:\n",
    "```bash\n",
    "docker ps\n",
    "```\n",
    "4. **כניסה ל-Postgres בתוך Docker**:\n",
    "```bash\n",
    "docker exec -it <container_name> psql -U <username> -d <database_name>\n",
    "```\n",
    "לדוגמה:\n",
    "```bash\n",
    "docker exec -it upskill_project-db-1 psql -U upskill_user -d upskill_db\n",
    "```\n",
    "\n",
    "## **סיכום**\n",
    "פקודות שימושיות לעבוד עם Git, Docker ו-Uvicorn כדי לשמור על הקוד שלך עדכני ולהפעיל את השירותים בסביבה מרובת קונטיינרים."
   ]
  }
 ],
 "metadata": {
  "kernelspec": {
   "display_name": ".venv",
   "language": "python",
   "name": "python3"
  },
  "language_info": {
   "codemirror_mode": {
    "name": "ipython",
    "version": 3
   },
   "file_extension": ".py",
   "mimetype": "text/x-python",
   "name": "python",
   "nbconvert_exporter": "python",
   "version": "3.11.9"
  }
 },
 "nbformat": 4,
 "nbformat_minor": 5
}
